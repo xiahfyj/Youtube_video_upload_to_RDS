{
  "nbformat": 4,
  "nbformat_minor": 0,
  "metadata": {
    "colab": {
      "name": "Get_youtube_upload_to_AWS.ipynb",
      "provenance": [],
      "collapsed_sections": []
    },
    "kernelspec": {
      "name": "python3",
      "display_name": "Python 3"
    },
    "language_info": {
      "name": "python"
    }
  },
  "cells": [
    {
      "cell_type": "code",
      "metadata": {
        "id": "0iwO5xgT3p5v"
      },
      "source": [
        "!pip install django.db\n",
        "import requests\n",
        "import psycopg2 as ps\n",
        "import pandas as pd\n",
        "from apiclient.discovery import build\n",
        "from django.db import transaction\n",
        "import time"
      ],
      "execution_count": null,
      "outputs": []
    },
    {
      "cell_type": "code",
      "metadata": {
        "id": "60oJcR6e2h5s"
      },
      "source": [
        "API_KEY='xxx'\n",
        "channel_id='xxx'"
      ],
      "execution_count": null,
      "outputs": []
    },
    {
      "cell_type": "code",
      "metadata": {
        "id": "j2859xQsVoR4"
      },
      "source": [
        "###build dataframe, later use for storing the youtube data\n",
        "df=pd.DataFrame(columns=['video_id','video_title','upload_date','commentCount','dislikeCount','favoriteCount','likeCount','viewCount'])\n",
        "df"
      ],
      "execution_count": null,
      "outputs": []
    },
    {
      "cell_type": "code",
      "metadata": {
        "id": "Unn42Kfe3LjB"
      },
      "source": [
        "##access to youtube with API keys\n",
        "service = build('youtube', 'v3', developerKey =API_KEY )\n"
      ],
      "execution_count": null,
      "outputs": []
    },
    {
      "cell_type": "code",
      "metadata": {
        "id": "guMD43oyT6VO"
      },
      "source": [
        "##get statistics such as view count like count on videos\n",
        "def get_video_stats(vid_id):\n",
        "    videos_stats=service.videos().list(part='statistics',id=vid_id).execute()\n",
        "    commentCount=videos_stats['items'][0]['statistics']['commentCount']\n",
        "    dislikeCount=videos_stats['items'][0]['statistics']['dislikeCount']\n",
        "    favoriteCount=videos_stats['items'][0]['statistics']['favoriteCount']\n",
        "    likeCount=videos_stats['items'][0]['statistics']['likeCount']\n",
        "    viewCount=videos_stats['items'][0]['statistics']['viewCount']\n",
        "\n",
        "    return commentCount, dislikeCount, favoriteCount, likeCount, viewCount"
      ],
      "execution_count": null,
      "outputs": []
    },
    {
      "cell_type": "code",
      "metadata": {
        "id": "R7hUhhw1KIuz"
      },
      "source": [
        "##get details on vidoes\n",
        "def get_video(df):\n",
        "    service = build('youtube', 'v3', developerKey =API_KEY )\n",
        "    search = service.search().list(part = 'snippet',channelId=channel_id,maxResults=1000,order='date').execute()\n",
        "    \n",
        "    time.sleep(1)\n",
        "\n",
        "    for video in search['items']:\n",
        "      if video['id']['kind']=='youtube#video':\n",
        "        vid_id=video['id']['videoId']\n",
        "        vid_title=video['snippet']['title']\n",
        "        vid_upload_date=video['snippet']['publishedAt']\n",
        "        \n",
        "\n",
        "        commentCount, dislikeCount, favoriteCount, likeCount, viewCount=get_video_stats(vid_id)\n",
        "\n",
        "        df=df.append({'video_id':vid_id,\n",
        "                      'video_title':vid_title,\n",
        "                      'upload_date':vid_upload_date,\n",
        "                      'commentCount':commentCount,\n",
        "                      'dislikeCount':dislikeCount,\n",
        "                      'favoriteCount':favoriteCount,\n",
        "                      'likeCount':likeCount,\n",
        "                      'viewCount':viewCount},ignore_index=True)\n",
        "    return df"
      ],
      "execution_count": null,
      "outputs": []
    },
    {
      "cell_type": "code",
      "metadata": {
        "id": "joVUeG6dOxR_"
      },
      "source": [
        "df=get_video(df)\n",
        "df.head()"
      ],
      "execution_count": null,
      "outputs": []
    },
    {
      "cell_type": "code",
      "metadata": {
        "id": "MTB3KFvg6Acf"
      },
      "source": [
        "##connect to AWS RDS\n",
        "def conn_to_db(host_name,dbname,username,pw,port):\n",
        "  try:\n",
        "    conn=ps.connect(host=host_name,database=dbname,user=username,password=pw,port=port)\n",
        "  except ps.OperationalError as e:\n",
        "    raise e\n",
        "  else:\n",
        "    print('connected!')\n",
        "  return conn\n",
        "\n",
        "\n"
      ],
      "execution_count": null,
      "outputs": []
    },
    {
      "cell_type": "code",
      "metadata": {
        "colab": {
          "base_uri": "https://localhost:8080/"
        },
        "id": "ZwrxswJn7550",
        "outputId": "7eb9129f-a2af-49fd-e4e3-f5d2150d0460"
      },
      "source": [
        "##credentials for connecting to RDS\n",
        "host_name='xxx'\n",
        "port='5432'\n",
        "dbname='xxx'\n",
        "username='postgres'\n",
        "pw='xxx'\n",
        "conn=None\n",
        "\n",
        "conn=conn_to_db(host_name,dbname,username,pw,port)"
      ],
      "execution_count": null,
      "outputs": [
        {
          "output_type": "stream",
          "text": [
            "connected!\n"
          ],
          "name": "stdout"
        }
      ]
    },
    {
      "cell_type": "code",
      "metadata": {
        "id": "ZmSB1Tit83Go"
      },
      "source": [
        "##create table for RDS\n",
        "\n",
        "def create_tb(curr):\n",
        "    create_table=(\"\"\"CREATE TABLE IF NOT EXISTS youtube_video (\n",
        "        video_id VARCHAR(255) PRIMARY KEY,\n",
        "        video_title TEXT NOT NULL,\n",
        "        upload_date DATE NOT NULL,\n",
        "        commentCount INTEGER NOT NULL,\n",
        "        dislikeCount INTEGER NOT NULL,\n",
        "        favoriteCount\tINTEGER NOT NULL,\n",
        "        likeCount INTEGER NOT NULL,\n",
        "        viewCount\tINTEGER NOT NULL\n",
        "    )\n",
        "    \"\"\")\n",
        "\n",
        "    curr.execute(create_table)\n",
        "\n",
        "\n",
        "\n",
        "\n",
        "   \n"
      ],
      "execution_count": null,
      "outputs": []
    },
    {
      "cell_type": "code",
      "metadata": {
        "id": "b1uB4pfWU8uv"
      },
      "source": [
        "##execute create table query\n",
        "curr=conn.cursor()\n",
        "\n",
        "create_tb(curr)\n",
        "\n"
      ],
      "execution_count": null,
      "outputs": []
    },
    {
      "cell_type": "code",
      "metadata": {
        "id": "4nH3keJhZxN1"
      },
      "source": [
        "##upload onto AWS RDS\n",
        "conn.commit()\n"
      ],
      "execution_count": null,
      "outputs": []
    },
    {
      "cell_type": "code",
      "metadata": {
        "id": "ZlFbFYQqNQ7y"
      },
      "source": [
        "##check if this video existed\n",
        "def vidoes_not_exits(curr,video_id):\n",
        "  query=(\"\"\"select video_id from youtube_video where video_id=%s\n",
        "  \"\"\")\n",
        "  curr.execute(query,(video_id,))\n",
        "  return curr.fetchone() is not None ##return False if exist\n"
      ],
      "execution_count": null,
      "outputs": []
    },
    {
      "cell_type": "code",
      "metadata": {
        "id": "VNCW-hHrOsUB"
      },
      "source": [
        "##update rows\n",
        "def update_row(curr,video_id,\tvideo_title,\tupload_date,\tcommentCount,\tdislikeCount,\tfavoriteCount,\tlikeCount,\tviewCount):\n",
        "    query=(\"\"\"UPDATE youtube_video\n",
        "              SET  video_title=%s,\n",
        "                  upload_date =%s,\n",
        "                  commentCount =%s,\n",
        "                  dislikeCount =%s,\n",
        "                  favoriteCount\t=%s,\n",
        "                  likeCount=%s,\n",
        "                  viewCount\t=%s \n",
        "              WHERE video_id=%s;  \n",
        "    \"\"\")\n",
        "    vars_to_update=(video_id,\tvideo_title,\tupload_date,\tcommentCount,\tdislikeCount,\tfavoriteCount,\tlikeCount,\tviewCount)\n",
        "    curr.execute(query,vars_to_update)"
      ],
      "execution_count": null,
      "outputs": []
    },
    {
      "cell_type": "code",
      "metadata": {
        "id": "rGwt6O2NmG5V"
      },
      "source": [
        ""
      ],
      "execution_count": null,
      "outputs": []
    },
    {
      "cell_type": "code",
      "metadata": {
        "id": "zTPzBfv2K070"
      },
      "source": [
        "##update new videos info\n",
        "##check if the video already exists in df\n",
        "def update_df(curr,df):\n",
        "    temp_df=pd.DataFrame(columns=['video_id','video_title','upload_date','commentCount','dislikeCount','favoriteCount','likeCount','viewCount'])\n",
        "\n",
        "    for i, row in df.iterrows():\n",
        "      if vidoes_not_exits(curr,row['video_id']):\n",
        "        ##update the df\n",
        "        update_row(curr,row['video_id'],row['video_title'],row['upload_date'],row['commentCount'],row['dislikeCount'],row['favoriteCount'],row['likeCount'],row['viewCount']) \n",
        "      else: ##inset\n",
        "        temp_df=temp_df.append(row)\n",
        "    \n",
        "    return temp_df\n"
      ],
      "execution_count": null,
      "outputs": []
    },
    {
      "cell_type": "code",
      "metadata": {
        "id": "CTbGeQl7hHhE"
      },
      "source": [
        "##inset new data\n",
        "def insert_to(curr,video_id,\tvideo_title,\tupload_date,\tcommentCount,\tdislikeCount,\tfavoriteCount,\tlikeCount,\tviewCount):\n",
        "    query=(\"\"\"INSERT INTO youtube_video (video_id,\tvideo_title,\tupload_date,\tcommentCount,\tdislikeCount,\tfavoriteCount,\tlikeCount,\tviewCount)\n",
        "    VALUES(%s,%s,%s,%s,%s,%s,%s)\n",
        "    ;  \n",
        "    \"\"\")\n",
        "    vars_to_insert=(video_id,\tvideo_title,\tupload_date,\tcommentCount,\tdislikeCount,\tfavoriteCount,\tlikeCount,\tviewCount)\n",
        "    curr.execute(query,vars_to_insert)"
      ],
      "execution_count": null,
      "outputs": []
    },
    {
      "cell_type": "code",
      "metadata": {
        "id": "RtJ3KRL9hslz"
      },
      "source": [
        "##append df to RDS\n",
        "def append_df_to_db(curr,df):\n",
        "  for i,row in df.iterrows():\n",
        "    insert_to(curr,row['video_id'],row['video_title'],row['upload_date'],row['commentCount'],row['dislikeCount'],row['favoriteCount'],row['likeCount'],row['viewCount']) "
      ],
      "execution_count": null,
      "outputs": []
    },
    {
      "cell_type": "code",
      "metadata": {
        "id": "n22fla2WXXFp"
      },
      "source": [
        "curr=conn.cursor()\n",
        "new_videos=update_df(curr,df)"
      ],
      "execution_count": null,
      "outputs": []
    },
    {
      "cell_type": "code",
      "metadata": {
        "id": "EQ5gtdWNelJY"
      },
      "source": [
        "curr=conn.cursor()\n",
        "append_df_to_db(curr,new_videos)"
      ],
      "execution_count": null,
      "outputs": []
    },
    {
      "cell_type": "code",
      "metadata": {
        "id": "8ZKAycaDYx-B"
      },
      "source": [
        "conn.close()"
      ],
      "execution_count": null,
      "outputs": []
    }
  ]
}